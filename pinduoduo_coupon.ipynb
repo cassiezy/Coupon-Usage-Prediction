{
 "cells": [
  {
   "cell_type": "code",
   "execution_count": 1,
   "metadata": {},
   "outputs": [],
   "source": [
    "import pandas as pd\n",
    "import seaborn as sns\n",
    "import matplotlib.pyplot as plt\n",
    "%matplotlib inline\n",
    "import seaborn as sns\n",
    "sns.set(style=\"whitegrid\")"
   ]
  },
  {
   "cell_type": "markdown",
   "metadata": {},
   "source": [
    "# Import Data"
   ]
  },
  {
   "cell_type": "code",
   "execution_count": 2,
   "metadata": {},
   "outputs": [
    {
     "data": {
      "text/html": [
       "<div>\n",
       "<style scoped>\n",
       "    .dataframe tbody tr th:only-of-type {\n",
       "        vertical-align: middle;\n",
       "    }\n",
       "\n",
       "    .dataframe tbody tr th {\n",
       "        vertical-align: top;\n",
       "    }\n",
       "\n",
       "    .dataframe thead th {\n",
       "        text-align: right;\n",
       "    }\n",
       "</style>\n",
       "<table border=\"1\" class=\"dataframe\">\n",
       "  <thead>\n",
       "    <tr style=\"text-align: right;\">\n",
       "      <th></th>\n",
       "      <th>ID</th>\n",
       "      <th>age</th>\n",
       "      <th>job</th>\n",
       "      <th>marital</th>\n",
       "      <th>default</th>\n",
       "      <th>returned</th>\n",
       "      <th>loan</th>\n",
       "      <th>coupon_used_in_last6_month</th>\n",
       "      <th>coupon_used_in_last_month</th>\n",
       "      <th>coupon_ind</th>\n",
       "    </tr>\n",
       "  </thead>\n",
       "  <tbody>\n",
       "    <tr>\n",
       "      <td>0</td>\n",
       "      <td>1</td>\n",
       "      <td>43</td>\n",
       "      <td>management</td>\n",
       "      <td>married</td>\n",
       "      <td>no</td>\n",
       "      <td>yes</td>\n",
       "      <td>no</td>\n",
       "      <td>2</td>\n",
       "      <td>0</td>\n",
       "      <td>0</td>\n",
       "    </tr>\n",
       "    <tr>\n",
       "      <td>1</td>\n",
       "      <td>2</td>\n",
       "      <td>42</td>\n",
       "      <td>technician</td>\n",
       "      <td>divorced</td>\n",
       "      <td>no</td>\n",
       "      <td>yes</td>\n",
       "      <td>no</td>\n",
       "      <td>1</td>\n",
       "      <td>1</td>\n",
       "      <td>0</td>\n",
       "    </tr>\n",
       "    <tr>\n",
       "      <td>2</td>\n",
       "      <td>3</td>\n",
       "      <td>47</td>\n",
       "      <td>admin.</td>\n",
       "      <td>married</td>\n",
       "      <td>no</td>\n",
       "      <td>yes</td>\n",
       "      <td>yes</td>\n",
       "      <td>2</td>\n",
       "      <td>0</td>\n",
       "      <td>0</td>\n",
       "    </tr>\n",
       "    <tr>\n",
       "      <td>3</td>\n",
       "      <td>4</td>\n",
       "      <td>28</td>\n",
       "      <td>management</td>\n",
       "      <td>single</td>\n",
       "      <td>no</td>\n",
       "      <td>yes</td>\n",
       "      <td>yes</td>\n",
       "      <td>2</td>\n",
       "      <td>0</td>\n",
       "      <td>0</td>\n",
       "    </tr>\n",
       "    <tr>\n",
       "      <td>4</td>\n",
       "      <td>5</td>\n",
       "      <td>42</td>\n",
       "      <td>technician</td>\n",
       "      <td>divorced</td>\n",
       "      <td>no</td>\n",
       "      <td>yes</td>\n",
       "      <td>no</td>\n",
       "      <td>5</td>\n",
       "      <td>0</td>\n",
       "      <td>0</td>\n",
       "    </tr>\n",
       "  </tbody>\n",
       "</table>\n",
       "</div>"
      ],
      "text/plain": [
       "   ID  age         job   marital default returned loan  \\\n",
       "0   1   43  management   married      no      yes   no   \n",
       "1   2   42  technician  divorced      no      yes   no   \n",
       "2   3   47      admin.   married      no      yes  yes   \n",
       "3   4   28  management    single      no      yes  yes   \n",
       "4   5   42  technician  divorced      no      yes   no   \n",
       "\n",
       "   coupon_used_in_last6_month  coupon_used_in_last_month  coupon_ind  \n",
       "0                           2                          0           0  \n",
       "1                           1                          1           0  \n",
       "2                           2                          0           0  \n",
       "3                           2                          0           0  \n",
       "4                           5                          0           0  "
      ]
     },
     "execution_count": 2,
     "metadata": {},
     "output_type": "execute_result"
    }
   ],
   "source": [
    "pdd=pd.read_csv('pinduoduo.csv')\n",
    "pdd.head()"
   ]
  },
  {
   "cell_type": "markdown",
   "metadata": {},
   "source": [
    "# EDA"
   ]
  },
  {
   "cell_type": "code",
   "execution_count": 3,
   "metadata": {},
   "outputs": [
    {
     "name": "stdout",
     "output_type": "stream",
     "text": [
      "<class 'pandas.core.frame.DataFrame'>\n",
      "RangeIndex: 25317 entries, 0 to 25316\n",
      "Data columns (total 10 columns):\n",
      "ID                            25317 non-null int64\n",
      "age                           25317 non-null int64\n",
      "job                           25317 non-null object\n",
      "marital                       25317 non-null object\n",
      "default                       25317 non-null object\n",
      "returned                      25317 non-null object\n",
      "loan                          25317 non-null object\n",
      "coupon_used_in_last6_month    25317 non-null int64\n",
      "coupon_used_in_last_month     25317 non-null int64\n",
      "coupon_ind                    25317 non-null int64\n",
      "dtypes: int64(5), object(5)\n",
      "memory usage: 1.9+ MB\n"
     ]
    }
   ],
   "source": [
    "pdd.info()\n",
    "#无缺失值"
   ]
  },
  {
   "cell_type": "code",
   "execution_count": 4,
   "metadata": {},
   "outputs": [
    {
     "data": {
      "text/html": [
       "<div>\n",
       "<style scoped>\n",
       "    .dataframe tbody tr th:only-of-type {\n",
       "        vertical-align: middle;\n",
       "    }\n",
       "\n",
       "    .dataframe tbody tr th {\n",
       "        vertical-align: top;\n",
       "    }\n",
       "\n",
       "    .dataframe thead th {\n",
       "        text-align: right;\n",
       "    }\n",
       "</style>\n",
       "<table border=\"1\" class=\"dataframe\">\n",
       "  <thead>\n",
       "    <tr style=\"text-align: right;\">\n",
       "      <th></th>\n",
       "      <th>ID</th>\n",
       "      <th>age</th>\n",
       "      <th>job</th>\n",
       "      <th>marital</th>\n",
       "      <th>default</th>\n",
       "      <th>returned</th>\n",
       "      <th>loan</th>\n",
       "      <th>coupon_used_in_last6_month</th>\n",
       "      <th>coupon_used_in_last_month</th>\n",
       "      <th>coupon_ind</th>\n",
       "    </tr>\n",
       "  </thead>\n",
       "  <tbody>\n",
       "    <tr>\n",
       "      <td>count</td>\n",
       "      <td>25317.000000</td>\n",
       "      <td>25317.000000</td>\n",
       "      <td>25317</td>\n",
       "      <td>25317</td>\n",
       "      <td>25317</td>\n",
       "      <td>25317</td>\n",
       "      <td>25317</td>\n",
       "      <td>25317.000000</td>\n",
       "      <td>25317.000000</td>\n",
       "      <td>25317.000000</td>\n",
       "    </tr>\n",
       "    <tr>\n",
       "      <td>unique</td>\n",
       "      <td>NaN</td>\n",
       "      <td>NaN</td>\n",
       "      <td>12</td>\n",
       "      <td>3</td>\n",
       "      <td>2</td>\n",
       "      <td>2</td>\n",
       "      <td>2</td>\n",
       "      <td>NaN</td>\n",
       "      <td>NaN</td>\n",
       "      <td>NaN</td>\n",
       "    </tr>\n",
       "    <tr>\n",
       "      <td>top</td>\n",
       "      <td>NaN</td>\n",
       "      <td>NaN</td>\n",
       "      <td>blue-collar</td>\n",
       "      <td>married</td>\n",
       "      <td>no</td>\n",
       "      <td>yes</td>\n",
       "      <td>no</td>\n",
       "      <td>NaN</td>\n",
       "      <td>NaN</td>\n",
       "      <td>NaN</td>\n",
       "    </tr>\n",
       "    <tr>\n",
       "      <td>freq</td>\n",
       "      <td>NaN</td>\n",
       "      <td>NaN</td>\n",
       "      <td>5456</td>\n",
       "      <td>15245</td>\n",
       "      <td>24869</td>\n",
       "      <td>14020</td>\n",
       "      <td>21258</td>\n",
       "      <td>NaN</td>\n",
       "      <td>NaN</td>\n",
       "      <td>NaN</td>\n",
       "    </tr>\n",
       "    <tr>\n",
       "      <td>mean</td>\n",
       "      <td>12659.000000</td>\n",
       "      <td>40.935379</td>\n",
       "      <td>NaN</td>\n",
       "      <td>NaN</td>\n",
       "      <td>NaN</td>\n",
       "      <td>NaN</td>\n",
       "      <td>NaN</td>\n",
       "      <td>2.772050</td>\n",
       "      <td>0.292847</td>\n",
       "      <td>0.116957</td>\n",
       "    </tr>\n",
       "    <tr>\n",
       "      <td>std</td>\n",
       "      <td>7308.532719</td>\n",
       "      <td>10.634289</td>\n",
       "      <td>NaN</td>\n",
       "      <td>NaN</td>\n",
       "      <td>NaN</td>\n",
       "      <td>NaN</td>\n",
       "      <td>NaN</td>\n",
       "      <td>3.136097</td>\n",
       "      <td>0.765498</td>\n",
       "      <td>0.321375</td>\n",
       "    </tr>\n",
       "    <tr>\n",
       "      <td>min</td>\n",
       "      <td>1.000000</td>\n",
       "      <td>18.000000</td>\n",
       "      <td>NaN</td>\n",
       "      <td>NaN</td>\n",
       "      <td>NaN</td>\n",
       "      <td>NaN</td>\n",
       "      <td>NaN</td>\n",
       "      <td>1.000000</td>\n",
       "      <td>0.000000</td>\n",
       "      <td>0.000000</td>\n",
       "    </tr>\n",
       "    <tr>\n",
       "      <td>25%</td>\n",
       "      <td>6330.000000</td>\n",
       "      <td>33.000000</td>\n",
       "      <td>NaN</td>\n",
       "      <td>NaN</td>\n",
       "      <td>NaN</td>\n",
       "      <td>NaN</td>\n",
       "      <td>NaN</td>\n",
       "      <td>1.000000</td>\n",
       "      <td>0.000000</td>\n",
       "      <td>0.000000</td>\n",
       "    </tr>\n",
       "    <tr>\n",
       "      <td>50%</td>\n",
       "      <td>12659.000000</td>\n",
       "      <td>39.000000</td>\n",
       "      <td>NaN</td>\n",
       "      <td>NaN</td>\n",
       "      <td>NaN</td>\n",
       "      <td>NaN</td>\n",
       "      <td>NaN</td>\n",
       "      <td>2.000000</td>\n",
       "      <td>0.000000</td>\n",
       "      <td>0.000000</td>\n",
       "    </tr>\n",
       "    <tr>\n",
       "      <td>75%</td>\n",
       "      <td>18988.000000</td>\n",
       "      <td>48.000000</td>\n",
       "      <td>NaN</td>\n",
       "      <td>NaN</td>\n",
       "      <td>NaN</td>\n",
       "      <td>NaN</td>\n",
       "      <td>NaN</td>\n",
       "      <td>3.000000</td>\n",
       "      <td>0.000000</td>\n",
       "      <td>0.000000</td>\n",
       "    </tr>\n",
       "    <tr>\n",
       "      <td>max</td>\n",
       "      <td>25317.000000</td>\n",
       "      <td>95.000000</td>\n",
       "      <td>NaN</td>\n",
       "      <td>NaN</td>\n",
       "      <td>NaN</td>\n",
       "      <td>NaN</td>\n",
       "      <td>NaN</td>\n",
       "      <td>55.000000</td>\n",
       "      <td>15.000000</td>\n",
       "      <td>1.000000</td>\n",
       "    </tr>\n",
       "  </tbody>\n",
       "</table>\n",
       "</div>"
      ],
      "text/plain": [
       "                  ID           age          job  marital default returned  \\\n",
       "count   25317.000000  25317.000000        25317    25317   25317    25317   \n",
       "unique           NaN           NaN           12        3       2        2   \n",
       "top              NaN           NaN  blue-collar  married      no      yes   \n",
       "freq             NaN           NaN         5456    15245   24869    14020   \n",
       "mean    12659.000000     40.935379          NaN      NaN     NaN      NaN   \n",
       "std      7308.532719     10.634289          NaN      NaN     NaN      NaN   \n",
       "min         1.000000     18.000000          NaN      NaN     NaN      NaN   \n",
       "25%      6330.000000     33.000000          NaN      NaN     NaN      NaN   \n",
       "50%     12659.000000     39.000000          NaN      NaN     NaN      NaN   \n",
       "75%     18988.000000     48.000000          NaN      NaN     NaN      NaN   \n",
       "max     25317.000000     95.000000          NaN      NaN     NaN      NaN   \n",
       "\n",
       "         loan  coupon_used_in_last6_month  coupon_used_in_last_month  \\\n",
       "count   25317                25317.000000               25317.000000   \n",
       "unique      2                         NaN                        NaN   \n",
       "top        no                         NaN                        NaN   \n",
       "freq    21258                         NaN                        NaN   \n",
       "mean      NaN                    2.772050                   0.292847   \n",
       "std       NaN                    3.136097                   0.765498   \n",
       "min       NaN                    1.000000                   0.000000   \n",
       "25%       NaN                    1.000000                   0.000000   \n",
       "50%       NaN                    2.000000                   0.000000   \n",
       "75%       NaN                    3.000000                   0.000000   \n",
       "max       NaN                   55.000000                  15.000000   \n",
       "\n",
       "          coupon_ind  \n",
       "count   25317.000000  \n",
       "unique           NaN  \n",
       "top              NaN  \n",
       "freq             NaN  \n",
       "mean        0.116957  \n",
       "std         0.321375  \n",
       "min         0.000000  \n",
       "25%         0.000000  \n",
       "50%         0.000000  \n",
       "75%         0.000000  \n",
       "max         1.000000  "
      ]
     },
     "execution_count": 4,
     "metadata": {},
     "output_type": "execute_result"
    }
   ],
   "source": [
    "pdd.describe(include='all')"
   ]
  },
  {
   "cell_type": "code",
   "execution_count": 5,
   "metadata": {},
   "outputs": [],
   "source": [
    "# age可能存在异常值 95\n",
    "# coupon_used_in_last6_month分布较为离散，可以尝试分箱操作"
   ]
  },
  {
   "cell_type": "code",
   "execution_count": 6,
   "metadata": {},
   "outputs": [
    {
     "data": {
      "text/plain": [
       "0"
      ]
     },
     "execution_count": 6,
     "metadata": {},
     "output_type": "execute_result"
    }
   ],
   "source": [
    "#数据中无重复值\n",
    "sum(pdd.duplicated())"
   ]
  },
  {
   "cell_type": "markdown",
   "metadata": {},
   "source": [
    "关键列"
   ]
  },
  {
   "cell_type": "code",
   "execution_count": 7,
   "metadata": {},
   "outputs": [],
   "source": [
    "pdd=pdd.rename(columns={'coupon_ind':'flag'})"
   ]
  },
  {
   "cell_type": "code",
   "execution_count": 8,
   "metadata": {},
   "outputs": [
    {
     "data": {
      "text/plain": [
       "0    0.883043\n",
       "1    0.116957\n",
       "Name: flag, dtype: float64"
      ]
     },
     "execution_count": 8,
     "metadata": {},
     "output_type": "execute_result"
    }
   ],
   "source": [
    "pdd.flag.value_counts(1)"
   ]
  },
  {
   "cell_type": "code",
   "execution_count": 9,
   "metadata": {},
   "outputs": [],
   "source": [
    "#使用优惠券的人占11.6%，可以接受"
   ]
  },
  {
   "cell_type": "markdown",
   "metadata": {},
   "source": [
    "数值型变量"
   ]
  },
  {
   "cell_type": "code",
   "execution_count": 10,
   "metadata": {},
   "outputs": [
    {
     "data": {
      "text/plain": [
       "<matplotlib.axes._subplots.AxesSubplot at 0x228ef783388>"
      ]
     },
     "execution_count": 10,
     "metadata": {},
     "output_type": "execute_result"
    },
    {
     "data": {
      "image/png": "[encoded data removed]",
      "text/plain": [
       "<Figure size 432x288 with 1 Axes>"
      ]
     },
     "metadata": {
      "needs_background": "light"
     },
     "output_type": "display_data"
    }
   ],
   "source": [
    "pdd['age'].plot(kind='hist', bins=40)"
   ]
  },
  {
   "cell_type": "code",
   "execution_count": 11,
   "metadata": {},
   "outputs": [],
   "source": [
    "#年龄集中在25-60，可以分箱"
   ]
  },
  {
   "cell_type": "code",
   "execution_count": 12,
   "metadata": {},
   "outputs": [
    {
     "data": {
      "text/plain": [
       "70.5"
      ]
     },
     "execution_count": 12,
     "metadata": {},
     "output_type": "execute_result"
    }
   ],
   "source": [
    "#找出离群值\n",
    "diff=pdd['age'].describe()['75%']-pdd['age'].describe()['25%']\n",
    "max=pdd['age'].describe()['75%']+1.5*diff\n",
    "max"
   ]
  },
  {
   "cell_type": "code",
   "execution_count": 13,
   "metadata": {},
   "outputs": [
    {
     "data": {
      "text/plain": [
       "0.01121775881818541"
      ]
     },
     "execution_count": 13,
     "metadata": {},
     "output_type": "execute_result"
    }
   ],
   "source": [
    "#若取age<=70,会失去1.12%的数据，可接受\n",
    "(pdd.shape[0]-pdd[pdd['age']<=70].shape[0])/pdd.shape[0]"
   ]
  },
  {
   "cell_type": "code",
   "execution_count": 14,
   "metadata": {},
   "outputs": [],
   "source": [
    "#删除年龄离群值\n",
    "pdd=pdd[pdd['age']<=70]"
   ]
  },
  {
   "cell_type": "code",
   "execution_count": 15,
   "metadata": {},
   "outputs": [
    {
     "data": {
      "text/plain": [
       "count    25033.000000\n",
       "mean         2.779171\n",
       "std          3.146620\n",
       "min          1.000000\n",
       "25%          1.000000\n",
       "50%          2.000000\n",
       "75%          3.000000\n",
       "max         55.000000\n",
       "Name: coupon_used_in_last6_month, dtype: float64"
      ]
     },
     "execution_count": 15,
     "metadata": {},
     "output_type": "execute_result"
    }
   ],
   "source": [
    "pdd['coupon_used_in_last6_month'].describe()"
   ]
  },
  {
   "cell_type": "code",
   "execution_count": 16,
   "metadata": {},
   "outputs": [
    {
     "data": {
      "image/png": "[encoded data removed]",
      "text/plain": [
       "<Figure size 432x288 with 1 Axes>"
      ]
     },
     "metadata": {
      "needs_background": "light"
     },
     "output_type": "display_data"
    }
   ],
   "source": [
    "pdd['coupon_used_in_last6_month'].plot(kind='hist', bins=40);"
   ]
  },
  {
   "cell_type": "code",
   "execution_count": 17,
   "metadata": {},
   "outputs": [
    {
     "data": {
      "text/plain": [
       "6.0"
      ]
     },
     "execution_count": 17,
     "metadata": {},
     "output_type": "execute_result"
    }
   ],
   "source": [
    "#长尾，找出离群值\n",
    "diff=pdd['coupon_used_in_last6_month'].describe()['75%']-pdd['coupon_used_in_last6_month'].describe()['25%']\n",
    "max=pdd['coupon_used_in_last6_month'].describe()['75%']+1.5*diff\n",
    "max"
   ]
  },
  {
   "cell_type": "code",
   "execution_count": 18,
   "metadata": {},
   "outputs": [
    {
     "data": {
      "text/plain": [
       "0.06822993648384133"
      ]
     },
     "execution_count": 18,
     "metadata": {},
     "output_type": "execute_result"
    }
   ],
   "source": [
    "#若取coupon_used_in_last6_month<=6,会失去6.78%的数据，在可接受范围内\n",
    "(pdd.shape[0]-pdd[pdd['coupon_used_in_last6_month']<=6].shape[0])/pdd.shape[0]"
   ]
  },
  {
   "cell_type": "code",
   "execution_count": 19,
   "metadata": {},
   "outputs": [],
   "source": [
    "#删除离群值\n",
    "pdd=pdd[pdd['coupon_used_in_last6_month']<=6]"
   ]
  },
  {
   "cell_type": "code",
   "execution_count": 20,
   "metadata": {},
   "outputs": [
    {
     "data": {
      "text/plain": [
       "count    23325.000000\n",
       "mean         0.292819\n",
       "std          0.724952\n",
       "min          0.000000\n",
       "25%          0.000000\n",
       "50%          0.000000\n",
       "75%          0.000000\n",
       "max          6.000000\n",
       "Name: coupon_used_in_last_month, dtype: float64"
      ]
     },
     "execution_count": 20,
     "metadata": {},
     "output_type": "execute_result"
    }
   ],
   "source": [
    "pdd['coupon_used_in_last_month'].describe()"
   ]
  },
  {
   "cell_type": "code",
   "execution_count": 21,
   "metadata": {},
   "outputs": [
    {
     "data": {
      "text/plain": [
       "0.8104180064308681"
      ]
     },
     "execution_count": 21,
     "metadata": {},
     "output_type": "execute_result"
    }
   ],
   "source": [
    "pdd[pdd['coupon_used_in_last_month']==0].shape[0]/pdd.shape[0]\n",
    "#8成用户上个月都没有用优惠券"
   ]
  },
  {
   "cell_type": "markdown",
   "metadata": {},
   "source": [
    "类别型变量"
   ]
  },
  {
   "cell_type": "code",
   "execution_count": 22,
   "metadata": {},
   "outputs": [
    {
     "data": {
      "text/plain": [
       "blue-collar      5082\n",
       "management       4885\n",
       "technician       3914\n",
       "admin.           2726\n",
       "services         2183\n",
       "retired           990\n",
       "self-employed     823\n",
       "entrepreneur      787\n",
       "unemployed        676\n",
       "housemaid         606\n",
       "student           512\n",
       "unknown           141\n",
       "Name: job, dtype: int64"
      ]
     },
     "execution_count": 22,
     "metadata": {},
     "output_type": "execute_result"
    }
   ],
   "source": [
    "pdd.job.value_counts()"
   ]
  },
  {
   "cell_type": "code",
   "execution_count": 23,
   "metadata": {},
   "outputs": [
    {
     "data": {
      "text/plain": [
       "<matplotlib.axes._subplots.AxesSubplot at 0x228f0450dc8>"
      ]
     },
     "execution_count": 23,
     "metadata": {},
     "output_type": "execute_result"
    },
    {
     "data": {
      "image/png": "[encoded data removed]",
      "text/plain": [
       "<Figure size 432x288 with 1 Axes>"
      ]
     },
     "metadata": {},
     "output_type": "display_data"
    }
   ],
   "source": [
    "pdd.marital.value_counts().plot(kind='pie')"
   ]
  },
  {
   "cell_type": "code",
   "execution_count": 24,
   "metadata": {},
   "outputs": [
    {
     "data": {
      "text/plain": [
       "no     22922\n",
       "yes      403\n",
       "Name: default, dtype: int64"
      ]
     },
     "execution_count": 24,
     "metadata": {},
     "output_type": "execute_result"
    }
   ],
   "source": [
    "pdd.default.value_counts()"
   ]
  },
  {
   "cell_type": "code",
   "execution_count": 25,
   "metadata": {},
   "outputs": [
    {
     "data": {
      "text/plain": [
       "yes    13141\n",
       "no     10184\n",
       "Name: returned, dtype: int64"
      ]
     },
     "execution_count": 25,
     "metadata": {},
     "output_type": "execute_result"
    }
   ],
   "source": [
    "pdd.returned.value_counts()"
   ]
  },
  {
   "cell_type": "code",
   "execution_count": 26,
   "metadata": {},
   "outputs": [
    {
     "data": {
      "text/plain": [
       "<matplotlib.axes._subplots.AxesSubplot at 0x228f0482c48>"
      ]
     },
     "execution_count": 26,
     "metadata": {},
     "output_type": "execute_result"
    },
    {
     "data": {
      "image/png": "[encoded data removed]",
      "text/plain": [
       "<Figure size 432x288 with 1 Axes>"
      ]
     },
     "metadata": {
      "needs_background": "light"
     },
     "output_type": "display_data"
    }
   ],
   "source": [
    "sns.countplot(y='returned',hue='flag',data=pdd)"
   ]
  },
  {
   "cell_type": "code",
   "execution_count": 27,
   "metadata": {},
   "outputs": [
    {
     "data": {
      "text/plain": [
       "no     19576\n",
       "yes     3749\n",
       "Name: loan, dtype: int64"
      ]
     },
     "execution_count": 27,
     "metadata": {},
     "output_type": "execute_result"
    }
   ],
   "source": [
    "pdd.loan.value_counts()"
   ]
  },
  {
   "cell_type": "code",
   "execution_count": 28,
   "metadata": {},
   "outputs": [
    {
     "data": {
      "text/html": [
       "<div>\n",
       "<style scoped>\n",
       "    .dataframe tbody tr th:only-of-type {\n",
       "        vertical-align: middle;\n",
       "    }\n",
       "\n",
       "    .dataframe tbody tr th {\n",
       "        vertical-align: top;\n",
       "    }\n",
       "\n",
       "    .dataframe thead th {\n",
       "        text-align: right;\n",
       "    }\n",
       "</style>\n",
       "<table border=\"1\" class=\"dataframe\">\n",
       "  <thead>\n",
       "    <tr style=\"text-align: right;\">\n",
       "      <th></th>\n",
       "      <th>ID</th>\n",
       "      <th>age</th>\n",
       "      <th>coupon_used_in_last6_month</th>\n",
       "      <th>coupon_used_in_last_month</th>\n",
       "      <th>flag</th>\n",
       "      <th>job_admin.</th>\n",
       "      <th>job_blue-collar</th>\n",
       "      <th>job_entrepreneur</th>\n",
       "      <th>job_housemaid</th>\n",
       "      <th>job_management</th>\n",
       "      <th>...</th>\n",
       "      <th>job_unknown</th>\n",
       "      <th>marital_divorced</th>\n",
       "      <th>marital_married</th>\n",
       "      <th>marital_single</th>\n",
       "      <th>default_no</th>\n",
       "      <th>default_yes</th>\n",
       "      <th>returned_no</th>\n",
       "      <th>returned_yes</th>\n",
       "      <th>loan_no</th>\n",
       "      <th>loan_yes</th>\n",
       "    </tr>\n",
       "  </thead>\n",
       "  <tbody>\n",
       "    <tr>\n",
       "      <td>0</td>\n",
       "      <td>1</td>\n",
       "      <td>43</td>\n",
       "      <td>2</td>\n",
       "      <td>0</td>\n",
       "      <td>0</td>\n",
       "      <td>0</td>\n",
       "      <td>0</td>\n",
       "      <td>0</td>\n",
       "      <td>0</td>\n",
       "      <td>1</td>\n",
       "      <td>...</td>\n",
       "      <td>0</td>\n",
       "      <td>0</td>\n",
       "      <td>1</td>\n",
       "      <td>0</td>\n",
       "      <td>1</td>\n",
       "      <td>0</td>\n",
       "      <td>0</td>\n",
       "      <td>1</td>\n",
       "      <td>1</td>\n",
       "      <td>0</td>\n",
       "    </tr>\n",
       "    <tr>\n",
       "      <td>1</td>\n",
       "      <td>2</td>\n",
       "      <td>42</td>\n",
       "      <td>1</td>\n",
       "      <td>1</td>\n",
       "      <td>0</td>\n",
       "      <td>0</td>\n",
       "      <td>0</td>\n",
       "      <td>0</td>\n",
       "      <td>0</td>\n",
       "      <td>0</td>\n",
       "      <td>...</td>\n",
       "      <td>0</td>\n",
       "      <td>1</td>\n",
       "      <td>0</td>\n",
       "      <td>0</td>\n",
       "      <td>1</td>\n",
       "      <td>0</td>\n",
       "      <td>0</td>\n",
       "      <td>1</td>\n",
       "      <td>1</td>\n",
       "      <td>0</td>\n",
       "    </tr>\n",
       "    <tr>\n",
       "      <td>2</td>\n",
       "      <td>3</td>\n",
       "      <td>47</td>\n",
       "      <td>2</td>\n",
       "      <td>0</td>\n",
       "      <td>0</td>\n",
       "      <td>1</td>\n",
       "      <td>0</td>\n",
       "      <td>0</td>\n",
       "      <td>0</td>\n",
       "      <td>0</td>\n",
       "      <td>...</td>\n",
       "      <td>0</td>\n",
       "      <td>0</td>\n",
       "      <td>1</td>\n",
       "      <td>0</td>\n",
       "      <td>1</td>\n",
       "      <td>0</td>\n",
       "      <td>0</td>\n",
       "      <td>1</td>\n",
       "      <td>0</td>\n",
       "      <td>1</td>\n",
       "    </tr>\n",
       "    <tr>\n",
       "      <td>3</td>\n",
       "      <td>4</td>\n",
       "      <td>28</td>\n",
       "      <td>2</td>\n",
       "      <td>0</td>\n",
       "      <td>0</td>\n",
       "      <td>0</td>\n",
       "      <td>0</td>\n",
       "      <td>0</td>\n",
       "      <td>0</td>\n",
       "      <td>1</td>\n",
       "      <td>...</td>\n",
       "      <td>0</td>\n",
       "      <td>0</td>\n",
       "      <td>0</td>\n",
       "      <td>1</td>\n",
       "      <td>1</td>\n",
       "      <td>0</td>\n",
       "      <td>0</td>\n",
       "      <td>1</td>\n",
       "      <td>0</td>\n",
       "      <td>1</td>\n",
       "    </tr>\n",
       "    <tr>\n",
       "      <td>4</td>\n",
       "      <td>5</td>\n",
       "      <td>42</td>\n",
       "      <td>5</td>\n",
       "      <td>0</td>\n",
       "      <td>0</td>\n",
       "      <td>0</td>\n",
       "      <td>0</td>\n",
       "      <td>0</td>\n",
       "      <td>0</td>\n",
       "      <td>0</td>\n",
       "      <td>...</td>\n",
       "      <td>0</td>\n",
       "      <td>1</td>\n",
       "      <td>0</td>\n",
       "      <td>0</td>\n",
       "      <td>1</td>\n",
       "      <td>0</td>\n",
       "      <td>0</td>\n",
       "      <td>1</td>\n",
       "      <td>1</td>\n",
       "      <td>0</td>\n",
       "    </tr>\n",
       "  </tbody>\n",
       "</table>\n",
       "<p>5 rows × 26 columns</p>\n",
       "</div>"
      ],
      "text/plain": [
       "   ID  age  coupon_used_in_last6_month  coupon_used_in_last_month  flag  \\\n",
       "0   1   43                           2                          0     0   \n",
       "1   2   42                           1                          1     0   \n",
       "2   3   47                           2                          0     0   \n",
       "3   4   28                           2                          0     0   \n",
       "4   5   42                           5                          0     0   \n",
       "\n",
       "   job_admin.  job_blue-collar  job_entrepreneur  job_housemaid  \\\n",
       "0           0                0                 0              0   \n",
       "1           0                0                 0              0   \n",
       "2           1                0                 0              0   \n",
       "3           0                0                 0              0   \n",
       "4           0                0                 0              0   \n",
       "\n",
       "   job_management  ...  job_unknown  marital_divorced  marital_married  \\\n",
       "0               1  ...            0                 0                1   \n",
       "1               0  ...            0                 1                0   \n",
       "2               0  ...            0                 0                1   \n",
       "3               1  ...            0                 0                0   \n",
       "4               0  ...            0                 1                0   \n",
       "\n",
       "   marital_single  default_no  default_yes  returned_no  returned_yes  \\\n",
       "0               0           1            0            0             1   \n",
       "1               0           1            0            0             1   \n",
       "2               0           1            0            0             1   \n",
       "3               1           1            0            0             1   \n",
       "4               0           1            0            0             1   \n",
       "\n",
       "   loan_no  loan_yes  \n",
       "0        1         0  \n",
       "1        1         0  \n",
       "2        0         1  \n",
       "3        0         1  \n",
       "4        1         0  \n",
       "\n",
       "[5 rows x 26 columns]"
      ]
     },
     "execution_count": 28,
     "metadata": {},
     "output_type": "execute_result"
    }
   ],
   "source": [
    "pdd=pd.get_dummies(pdd)\n",
    "pdd.head()"
   ]
  },
  {
   "cell_type": "code",
   "execution_count": 29,
   "metadata": {},
   "outputs": [],
   "source": [
    "pdd.drop(['ID','default_no','returned_no','loan_no'],axis=1,inplace=True)"
   ]
  },
  {
   "cell_type": "code",
   "execution_count": 30,
   "metadata": {},
   "outputs": [
    {
     "data": {
      "text/html": [
       "<div>\n",
       "<style scoped>\n",
       "    .dataframe tbody tr th:only-of-type {\n",
       "        vertical-align: middle;\n",
       "    }\n",
       "\n",
       "    .dataframe tbody tr th {\n",
       "        vertical-align: top;\n",
       "    }\n",
       "\n",
       "    .dataframe thead th {\n",
       "        text-align: right;\n",
       "    }\n",
       "</style>\n",
       "<table border=\"1\" class=\"dataframe\">\n",
       "  <thead>\n",
       "    <tr style=\"text-align: right;\">\n",
       "      <th></th>\n",
       "      <th>age</th>\n",
       "      <th>coupon_used_in_last6_month</th>\n",
       "      <th>coupon_used_in_last_month</th>\n",
       "      <th>flag</th>\n",
       "      <th>job_admin.</th>\n",
       "      <th>job_blue-collar</th>\n",
       "      <th>job_entrepreneur</th>\n",
       "      <th>job_housemaid</th>\n",
       "      <th>job_management</th>\n",
       "      <th>job_retired</th>\n",
       "      <th>...</th>\n",
       "      <th>job_student</th>\n",
       "      <th>job_technician</th>\n",
       "      <th>job_unemployed</th>\n",
       "      <th>job_unknown</th>\n",
       "      <th>marital_divorced</th>\n",
       "      <th>marital_married</th>\n",
       "      <th>marital_single</th>\n",
       "      <th>default_yes</th>\n",
       "      <th>returned_yes</th>\n",
       "      <th>loan_yes</th>\n",
       "    </tr>\n",
       "  </thead>\n",
       "  <tbody>\n",
       "    <tr>\n",
       "      <td>0</td>\n",
       "      <td>43</td>\n",
       "      <td>2</td>\n",
       "      <td>0</td>\n",
       "      <td>0</td>\n",
       "      <td>0</td>\n",
       "      <td>0</td>\n",
       "      <td>0</td>\n",
       "      <td>0</td>\n",
       "      <td>1</td>\n",
       "      <td>0</td>\n",
       "      <td>...</td>\n",
       "      <td>0</td>\n",
       "      <td>0</td>\n",
       "      <td>0</td>\n",
       "      <td>0</td>\n",
       "      <td>0</td>\n",
       "      <td>1</td>\n",
       "      <td>0</td>\n",
       "      <td>0</td>\n",
       "      <td>1</td>\n",
       "      <td>0</td>\n",
       "    </tr>\n",
       "    <tr>\n",
       "      <td>1</td>\n",
       "      <td>42</td>\n",
       "      <td>1</td>\n",
       "      <td>1</td>\n",
       "      <td>0</td>\n",
       "      <td>0</td>\n",
       "      <td>0</td>\n",
       "      <td>0</td>\n",
       "      <td>0</td>\n",
       "      <td>0</td>\n",
       "      <td>0</td>\n",
       "      <td>...</td>\n",
       "      <td>0</td>\n",
       "      <td>1</td>\n",
       "      <td>0</td>\n",
       "      <td>0</td>\n",
       "      <td>1</td>\n",
       "      <td>0</td>\n",
       "      <td>0</td>\n",
       "      <td>0</td>\n",
       "      <td>1</td>\n",
       "      <td>0</td>\n",
       "    </tr>\n",
       "    <tr>\n",
       "      <td>2</td>\n",
       "      <td>47</td>\n",
       "      <td>2</td>\n",
       "      <td>0</td>\n",
       "      <td>0</td>\n",
       "      <td>1</td>\n",
       "      <td>0</td>\n",
       "      <td>0</td>\n",
       "      <td>0</td>\n",
       "      <td>0</td>\n",
       "      <td>0</td>\n",
       "      <td>...</td>\n",
       "      <td>0</td>\n",
       "      <td>0</td>\n",
       "      <td>0</td>\n",
       "      <td>0</td>\n",
       "      <td>0</td>\n",
       "      <td>1</td>\n",
       "      <td>0</td>\n",
       "      <td>0</td>\n",
       "      <td>1</td>\n",
       "      <td>1</td>\n",
       "    </tr>\n",
       "    <tr>\n",
       "      <td>3</td>\n",
       "      <td>28</td>\n",
       "      <td>2</td>\n",
       "      <td>0</td>\n",
       "      <td>0</td>\n",
       "      <td>0</td>\n",
       "      <td>0</td>\n",
       "      <td>0</td>\n",
       "      <td>0</td>\n",
       "      <td>1</td>\n",
       "      <td>0</td>\n",
       "      <td>...</td>\n",
       "      <td>0</td>\n",
       "      <td>0</td>\n",
       "      <td>0</td>\n",
       "      <td>0</td>\n",
       "      <td>0</td>\n",
       "      <td>0</td>\n",
       "      <td>1</td>\n",
       "      <td>0</td>\n",
       "      <td>1</td>\n",
       "      <td>1</td>\n",
       "    </tr>\n",
       "    <tr>\n",
       "      <td>4</td>\n",
       "      <td>42</td>\n",
       "      <td>5</td>\n",
       "      <td>0</td>\n",
       "      <td>0</td>\n",
       "      <td>0</td>\n",
       "      <td>0</td>\n",
       "      <td>0</td>\n",
       "      <td>0</td>\n",
       "      <td>0</td>\n",
       "      <td>0</td>\n",
       "      <td>...</td>\n",
       "      <td>0</td>\n",
       "      <td>1</td>\n",
       "      <td>0</td>\n",
       "      <td>0</td>\n",
       "      <td>1</td>\n",
       "      <td>0</td>\n",
       "      <td>0</td>\n",
       "      <td>0</td>\n",
       "      <td>1</td>\n",
       "      <td>0</td>\n",
       "    </tr>\n",
       "  </tbody>\n",
       "</table>\n",
       "<p>5 rows × 22 columns</p>\n",
       "</div>"
      ],
      "text/plain": [
       "   age  coupon_used_in_last6_month  coupon_used_in_last_month  flag  \\\n",
       "0   43                           2                          0     0   \n",
       "1   42                           1                          1     0   \n",
       "2   47                           2                          0     0   \n",
       "3   28                           2                          0     0   \n",
       "4   42                           5                          0     0   \n",
       "\n",
       "   job_admin.  job_blue-collar  job_entrepreneur  job_housemaid  \\\n",
       "0           0                0                 0              0   \n",
       "1           0                0                 0              0   \n",
       "2           1                0                 0              0   \n",
       "3           0                0                 0              0   \n",
       "4           0                0                 0              0   \n",
       "\n",
       "   job_management  job_retired  ...  job_student  job_technician  \\\n",
       "0               1            0  ...            0               0   \n",
       "1               0            0  ...            0               1   \n",
       "2               0            0  ...            0               0   \n",
       "3               1            0  ...            0               0   \n",
       "4               0            0  ...            0               1   \n",
       "\n",
       "   job_unemployed  job_unknown  marital_divorced  marital_married  \\\n",
       "0               0            0                 0                1   \n",
       "1               0            0                 1                0   \n",
       "2               0            0                 0                1   \n",
       "3               0            0                 0                0   \n",
       "4               0            0                 1                0   \n",
       "\n",
       "   marital_single  default_yes  returned_yes  loan_yes  \n",
       "0               0            0             1         0  \n",
       "1               0            0             1         0  \n",
       "2               0            0             1         1  \n",
       "3               1            0             1         1  \n",
       "4               0            0             1         0  \n",
       "\n",
       "[5 rows x 22 columns]"
      ]
     },
     "execution_count": 30,
     "metadata": {},
     "output_type": "execute_result"
    }
   ],
   "source": [
    "pdd.head()"
   ]
  },
  {
   "cell_type": "code",
   "execution_count": 31,
   "metadata": {},
   "outputs": [
    {
     "data": {
      "text/html": [
       "<div>\n",
       "<style scoped>\n",
       "    .dataframe tbody tr th:only-of-type {\n",
       "        vertical-align: middle;\n",
       "    }\n",
       "\n",
       "    .dataframe tbody tr th {\n",
       "        vertical-align: top;\n",
       "    }\n",
       "\n",
       "    .dataframe thead th {\n",
       "        text-align: right;\n",
       "    }\n",
       "</style>\n",
       "<table border=\"1\" class=\"dataframe\">\n",
       "  <thead>\n",
       "    <tr style=\"text-align: right;\">\n",
       "      <th></th>\n",
       "      <th>age</th>\n",
       "      <th>coupon_used_in_last6_month</th>\n",
       "      <th>coupon_used_in_last_month</th>\n",
       "      <th>job_admin.</th>\n",
       "      <th>job_blue-collar</th>\n",
       "      <th>job_entrepreneur</th>\n",
       "      <th>job_housemaid</th>\n",
       "      <th>job_management</th>\n",
       "      <th>job_retired</th>\n",
       "      <th>job_self-employed</th>\n",
       "      <th>...</th>\n",
       "      <th>job_student</th>\n",
       "      <th>job_technician</th>\n",
       "      <th>job_unemployed</th>\n",
       "      <th>job_unknown</th>\n",
       "      <th>marital_divorced</th>\n",
       "      <th>marital_married</th>\n",
       "      <th>marital_single</th>\n",
       "      <th>default_yes</th>\n",
       "      <th>returned_yes</th>\n",
       "      <th>loan_yes</th>\n",
       "    </tr>\n",
       "    <tr>\n",
       "      <th>flag</th>\n",
       "      <th></th>\n",
       "      <th></th>\n",
       "      <th></th>\n",
       "      <th></th>\n",
       "      <th></th>\n",
       "      <th></th>\n",
       "      <th></th>\n",
       "      <th></th>\n",
       "      <th></th>\n",
       "      <th></th>\n",
       "      <th></th>\n",
       "      <th></th>\n",
       "      <th></th>\n",
       "      <th></th>\n",
       "      <th></th>\n",
       "      <th></th>\n",
       "      <th></th>\n",
       "      <th></th>\n",
       "      <th></th>\n",
       "      <th></th>\n",
       "      <th></th>\n",
       "    </tr>\n",
       "  </thead>\n",
       "  <tbody>\n",
       "    <tr>\n",
       "      <td>0</td>\n",
       "      <td>40.524198</td>\n",
       "      <td>2.164091</td>\n",
       "      <td>0.259767</td>\n",
       "      <td>0.116618</td>\n",
       "      <td>0.228669</td>\n",
       "      <td>0.035131</td>\n",
       "      <td>0.027017</td>\n",
       "      <td>0.203110</td>\n",
       "      <td>0.039213</td>\n",
       "      <td>0.035180</td>\n",
       "      <td>...</td>\n",
       "      <td>0.017979</td>\n",
       "      <td>0.167687</td>\n",
       "      <td>0.027308</td>\n",
       "      <td>0.005977</td>\n",
       "      <td>0.115500</td>\n",
       "      <td>0.608358</td>\n",
       "      <td>0.276142</td>\n",
       "      <td>0.018416</td>\n",
       "      <td>0.589067</td>\n",
       "      <td>0.169096</td>\n",
       "    </tr>\n",
       "    <tr>\n",
       "      <td>1</td>\n",
       "      <td>40.301275</td>\n",
       "      <td>1.888525</td>\n",
       "      <td>0.540619</td>\n",
       "      <td>0.118761</td>\n",
       "      <td>0.136976</td>\n",
       "      <td>0.023315</td>\n",
       "      <td>0.018215</td>\n",
       "      <td>0.256831</td>\n",
       "      <td>0.066667</td>\n",
       "      <td>0.036066</td>\n",
       "      <td>...</td>\n",
       "      <td>0.051730</td>\n",
       "      <td>0.168670</td>\n",
       "      <td>0.041530</td>\n",
       "      <td>0.006557</td>\n",
       "      <td>0.112568</td>\n",
       "      <td>0.517304</td>\n",
       "      <td>0.370128</td>\n",
       "      <td>0.008743</td>\n",
       "      <td>0.370856</td>\n",
       "      <td>0.097996</td>\n",
       "    </tr>\n",
       "  </tbody>\n",
       "</table>\n",
       "<p>2 rows × 21 columns</p>\n",
       "</div>"
      ],
      "text/plain": [
       "            age  coupon_used_in_last6_month  coupon_used_in_last_month  \\\n",
       "flag                                                                     \n",
       "0     40.524198                    2.164091                   0.259767   \n",
       "1     40.301275                    1.888525                   0.540619   \n",
       "\n",
       "      job_admin.  job_blue-collar  job_entrepreneur  job_housemaid  \\\n",
       "flag                                                                 \n",
       "0       0.116618         0.228669          0.035131       0.027017   \n",
       "1       0.118761         0.136976          0.023315       0.018215   \n",
       "\n",
       "      job_management  job_retired  job_self-employed  ...  job_student  \\\n",
       "flag                                                  ...                \n",
       "0           0.203110     0.039213           0.035180  ...     0.017979   \n",
       "1           0.256831     0.066667           0.036066  ...     0.051730   \n",
       "\n",
       "      job_technician  job_unemployed  job_unknown  marital_divorced  \\\n",
       "flag                                                                  \n",
       "0           0.167687        0.027308     0.005977          0.115500   \n",
       "1           0.168670        0.041530     0.006557          0.112568   \n",
       "\n",
       "      marital_married  marital_single  default_yes  returned_yes  loan_yes  \n",
       "flag                                                                        \n",
       "0            0.608358        0.276142     0.018416      0.589067  0.169096  \n",
       "1            0.517304        0.370128     0.008743      0.370856  0.097996  \n",
       "\n",
       "[2 rows x 21 columns]"
      ]
     },
     "execution_count": 31,
     "metadata": {},
     "output_type": "execute_result"
    }
   ],
   "source": [
    "pdd.groupby(['flag']).mean()"
   ]
  },
  {
   "cell_type": "code",
   "execution_count": 32,
   "metadata": {},
   "outputs": [],
   "source": [
    "#符合以下情况的用户更可能使用优惠券：\n",
    "#上个月用的优惠券数量越多\n",
    "#过去六个月没有使用太多优惠券（过去六个月用的多说明购物多，这次继续购物的可能性就减少，使用优惠券的概率也相对小）\n",
    "#没有退货行为\n",
    "#退休人士/学生/失业人群\n",
    "#单身人群\n",
    "#非信用卡的用户"
   ]
  },
  {
   "cell_type": "markdown",
   "metadata": {},
   "source": [
    "# 相关性分析"
   ]
  },
  {
   "cell_type": "code",
   "execution_count": 33,
   "metadata": {},
   "outputs": [
    {
     "data": {
      "text/plain": [
       "flag                          1.000000\n",
       "coupon_used_in_last_month     0.124839\n",
       "job_student                   0.074227\n",
       "marital_single                0.066935\n",
       "job_retired                   0.043882\n",
       "job_management                0.042543\n",
       "job_unemployed                0.027318\n",
       "job_unknown                   0.002414\n",
       "job_admin.                    0.002150\n",
       "job_self-employed             0.001547\n",
       "job_technician                0.000848\n",
       "marital_divorced             -0.002960\n",
       "age                          -0.007172\n",
       "job_housemaid                -0.017829\n",
       "job_entrepreneur             -0.021087\n",
       "job_services                 -0.023711\n",
       "default_yes                  -0.023920\n",
       "marital_married              -0.059833\n",
       "loan_yes                     -0.062380\n",
       "coupon_used_in_last6_month   -0.067464\n",
       "job_blue-collar              -0.071575\n",
       "returned_yes                 -0.141774\n",
       "Name: flag, dtype: float64"
      ]
     },
     "execution_count": 33,
     "metadata": {},
     "output_type": "execute_result"
    }
   ],
   "source": [
    "pdd.corr()['flag'].sort_values(ascending=False)"
   ]
  },
  {
   "cell_type": "code",
   "execution_count": 34,
   "metadata": {},
   "outputs": [
    {
     "data": {
      "text/plain": [
       "<matplotlib.axes._subplots.AxesSubplot at 0x228efd873c8>"
      ]
     },
     "execution_count": 34,
     "metadata": {},
     "output_type": "execute_result"
    },
    {
     "data": {
      "image/png": "[encoded data removed]",
      "text/plain": [
       "<Figure size 432x288 with 2 Axes>"
      ]
     },
     "metadata": {
      "needs_background": "light"
     },
     "output_type": "display_data"
    }
   ],
   "source": [
    "q1=['coupon_used_in_last_month', 'job_student', 'marital_single','job_retired','job_management','job_unemployed',\n",
    "    'marital_married','loan_yes','coupon_used_in_last6_month','job_blue-collar','returned_yes']\n",
    "sns.heatmap(pdd[q1].corr())"
   ]
  },
  {
   "cell_type": "markdown",
   "metadata": {},
   "source": [
    "# 模型建立 "
   ]
  },
  {
   "cell_type": "code",
   "execution_count": 35,
   "metadata": {},
   "outputs": [],
   "source": [
    "y=pdd['flag']\n",
    "x=pdd[['coupon_used_in_last_month', 'job_student', 'marital_single','job_retired','job_management','job_unemployed',\n",
    "    'marital_married','loan_yes','coupon_used_in_last6_month','job_blue-collar','returned_yes']]"
   ]
  },
  {
   "cell_type": "code",
   "execution_count": 36,
   "metadata": {},
   "outputs": [],
   "source": [
    "#调用sklearn模块，随机抽取训练集与测试集\n",
    "from sklearn.model_selection import train_test_split\n",
    "x_train,x_test,y_train,y_test=train_test_split(x,y,test_size=0.3,random_state=1)"
   ]
  },
  {
   "cell_type": "code",
   "execution_count": 37,
   "metadata": {},
   "outputs": [],
   "source": [
    "#调用sklearn中逻辑回归模块\n",
    "from sklearn import linear_model\n",
    "lr=linear_model.LogisticRegression()"
   ]
  },
  {
   "cell_type": "code",
   "execution_count": 38,
   "metadata": {},
   "outputs": [
    {
     "name": "stderr",
     "output_type": "stream",
     "text": [
      "C:\\Users\\Owner\\Anaconda3\\lib\\site-packages\\sklearn\\linear_model\\logistic.py:432: FutureWarning: Default solver will be changed to 'lbfgs' in 0.22. Specify a solver to silence this warning.\n",
      "  FutureWarning)\n"
     ]
    },
    {
     "data": {
      "text/plain": [
       "LogisticRegression(C=1.0, class_weight=None, dual=False, fit_intercept=True,\n",
       "                   intercept_scaling=1, l1_ratio=None, max_iter=100,\n",
       "                   multi_class='warn', n_jobs=None, penalty='l2',\n",
       "                   random_state=None, solver='warn', tol=0.0001, verbose=0,\n",
       "                   warm_start=False)"
      ]
     },
     "execution_count": 38,
     "metadata": {},
     "output_type": "execute_result"
    }
   ],
   "source": [
    "#模型拟合\n",
    "lr.fit(x_train,y_train)"
   ]
  },
  {
   "cell_type": "code",
   "execution_count": 39,
   "metadata": {},
   "outputs": [
    {
     "data": {
      "text/plain": [
       "array([-1.29772036])"
      ]
     },
     "execution_count": 39,
     "metadata": {},
     "output_type": "execute_result"
    }
   ],
   "source": [
    "#模型的截距与系数\n",
    "lr.intercept_"
   ]
  },
  {
   "cell_type": "code",
   "execution_count": 40,
   "metadata": {},
   "outputs": [
    {
     "data": {
      "text/plain": [
       "array([[ 0.50429086,  0.59938599,  0.2592328 ,  0.41205734,  0.21818936,\n",
       "         0.33533269, -0.0722816 , -0.49721391, -0.26037011, -0.25374964,\n",
       "        -0.85610703]])"
      ]
     },
     "execution_count": 40,
     "metadata": {},
     "output_type": "execute_result"
    }
   ],
   "source": [
    "lr.coef_"
   ]
  },
  {
   "cell_type": "code",
   "execution_count": 41,
   "metadata": {},
   "outputs": [],
   "source": [
    "#模型的评估\n",
    "#基于模型的结果，对训练集与测试集中x的真实值预测对应的y\n",
    "y_pred_train=lr.predict(x_train)\n",
    "y_pred_test=lr.predict(x_test)"
   ]
  },
  {
   "cell_type": "code",
   "execution_count": 42,
   "metadata": {},
   "outputs": [],
   "source": [
    "#搭建混淆矩阵\n",
    "import sklearn.metrics as metrics"
   ]
  },
  {
   "cell_type": "code",
   "execution_count": 43,
   "metadata": {},
   "outputs": [
    {
     "data": {
      "text/plain": [
       "array([[14372,    19],\n",
       "       [ 1928,     8]], dtype=int64)"
      ]
     },
     "execution_count": 43,
     "metadata": {},
     "output_type": "execute_result"
    }
   ],
   "source": [
    "#训练集混淆矩阵\n",
    "metrics.confusion_matrix(y_train,y_pred_train)"
   ]
  },
  {
   "cell_type": "code",
   "execution_count": 44,
   "metadata": {},
   "outputs": [
    {
     "data": {
      "text/plain": [
       "0.8807496784467447"
      ]
     },
     "execution_count": 44,
     "metadata": {},
     "output_type": "execute_result"
    }
   ],
   "source": [
    "#训练集预测准确率\n",
    "metrics.accuracy_score(y_train,y_pred_train)"
   ]
  },
  {
   "cell_type": "code",
   "execution_count": 45,
   "metadata": {},
   "outputs": [
    {
     "data": {
      "text/plain": [
       "array([[6176,   13],\n",
       "       [ 804,    5]], dtype=int64)"
      ]
     },
     "execution_count": 45,
     "metadata": {},
     "output_type": "execute_result"
    }
   ],
   "source": [
    "#测试集混淆矩阵\n",
    "metrics.confusion_matrix(y_test,y_pred_test)"
   ]
  },
  {
   "cell_type": "code",
   "execution_count": 46,
   "metadata": {},
   "outputs": [
    {
     "data": {
      "text/plain": [
       "0.883252357816519"
      ]
     },
     "execution_count": 46,
     "metadata": {},
     "output_type": "execute_result"
    }
   ],
   "source": [
    "#测试集预测准确率\n",
    "metrics.accuracy_score(y_test,y_pred_test)"
   ]
  },
  {
   "cell_type": "markdown",
   "metadata": {},
   "source": [
    "模型预测准确率达到88%，较高\n",
    "    \n",
    "    同时可以发现：\n",
    "    以下用户特征会提高优惠券使用率：\n",
    "    上月使用过一定量的优惠券，学生身份，退休/失业人群，单身，从事管理工作\n",
    "    以下用户特征会降低优惠券使用率：\n",
    "    已婚，使用信用卡支付，过去六个月使用较多优惠券，蓝领，有过退货行为\n"
   ]
  },
  {
   "cell_type": "markdown",
   "metadata": {},
   "source": [
    "# 模型优化\n",
    "1. 删除离群值(已完成)\n",
    "2. train_test_split:50%/50%\n",
    "3. 年龄分箱"
   ]
  },
  {
   "cell_type": "markdown",
   "metadata": {},
   "source": [
    "# 优化一：train_test_split:50%/50%"
   ]
  },
  {
   "cell_type": "code",
   "execution_count": 47,
   "metadata": {},
   "outputs": [],
   "source": [
    "x_train,x_test,y_train,y_test=train_test_split(x,y,test_size=0.5,random_state=1)"
   ]
  },
  {
   "cell_type": "code",
   "execution_count": 48,
   "metadata": {},
   "outputs": [],
   "source": [
    "from sklearn import linear_model\n",
    "lr=linear_model.LogisticRegression()"
   ]
  },
  {
   "cell_type": "code",
   "execution_count": 49,
   "metadata": {},
   "outputs": [
    {
     "name": "stderr",
     "output_type": "stream",
     "text": [
      "C:\\Users\\Owner\\Anaconda3\\lib\\site-packages\\sklearn\\linear_model\\logistic.py:432: FutureWarning: Default solver will be changed to 'lbfgs' in 0.22. Specify a solver to silence this warning.\n",
      "  FutureWarning)\n"
     ]
    },
    {
     "data": {
      "text/plain": [
       "LogisticRegression(C=1.0, class_weight=None, dual=False, fit_intercept=True,\n",
       "                   intercept_scaling=1, l1_ratio=None, max_iter=100,\n",
       "                   multi_class='warn', n_jobs=None, penalty='l2',\n",
       "                   random_state=None, solver='warn', tol=0.0001, verbose=0,\n",
       "                   warm_start=False)"
      ]
     },
     "execution_count": 49,
     "metadata": {},
     "output_type": "execute_result"
    }
   ],
   "source": [
    "lr.fit(x_train,y_train)"
   ]
  },
  {
   "cell_type": "code",
   "execution_count": 50,
   "metadata": {},
   "outputs": [
    {
     "data": {
      "text/plain": [
       "array([-1.28398496])"
      ]
     },
     "execution_count": 50,
     "metadata": {},
     "output_type": "execute_result"
    }
   ],
   "source": [
    "lr.intercept_"
   ]
  },
  {
   "cell_type": "code",
   "execution_count": 51,
   "metadata": {},
   "outputs": [
    {
     "data": {
      "text/plain": [
       "array([[ 0.51315232,  0.5743577 ,  0.27749254,  0.51021663,  0.23471812,\n",
       "         0.33391312, -0.11030196, -0.57519875, -0.2632076 , -0.2990363 ,\n",
       "        -0.82988961]])"
      ]
     },
     "execution_count": 51,
     "metadata": {},
     "output_type": "execute_result"
    }
   ],
   "source": [
    "lr.coef_"
   ]
  },
  {
   "cell_type": "code",
   "execution_count": 52,
   "metadata": {},
   "outputs": [],
   "source": [
    "y_pred_train=lr.predict(x_train)\n",
    "y_pred_test=lr.predict(x_test)"
   ]
  },
  {
   "cell_type": "code",
   "execution_count": 53,
   "metadata": {},
   "outputs": [
    {
     "data": {
      "text/plain": [
       "0.8800377293774653"
      ]
     },
     "execution_count": 53,
     "metadata": {},
     "output_type": "execute_result"
    }
   ],
   "source": [
    "metrics.accuracy_score(y_train,y_pred_train)"
   ]
  },
  {
   "cell_type": "code",
   "execution_count": 54,
   "metadata": {},
   "outputs": [
    {
     "data": {
      "text/plain": [
       "0.8829632170110606"
      ]
     },
     "execution_count": 54,
     "metadata": {},
     "output_type": "execute_result"
    }
   ],
   "source": [
    "metrics.accuracy_score(y_test,y_pred_test)"
   ]
  },
  {
   "cell_type": "markdown",
   "metadata": {},
   "source": [
    "测试集准确率下降，未能优化模型，依旧采用7/3分"
   ]
  },
  {
   "cell_type": "markdown",
   "metadata": {},
   "source": [
    "# 优化二：年龄分箱"
   ]
  },
  {
   "cell_type": "code",
   "execution_count": 55,
   "metadata": {},
   "outputs": [
    {
     "data": {
      "text/plain": [
       "<matplotlib.axes._subplots.AxesSubplot at 0x228f0eb1648>"
      ]
     },
     "execution_count": 55,
     "metadata": {},
     "output_type": "execute_result"
    },
    {
     "data": {
      "image/png": "[encoded data removed]",
      "text/plain": [
       "<Figure size 432x288 with 1 Axes>"
      ]
     },
     "metadata": {
      "needs_background": "light"
     },
     "output_type": "display_data"
    }
   ],
   "source": [
    "pdd['age'].plot(kind='hist', bins=40)"
   ]
  },
  {
   "cell_type": "code",
   "execution_count": 56,
   "metadata": {},
   "outputs": [
    {
     "data": {
      "text/plain": [
       "<matplotlib.axes._subplots.AxesSubplot at 0x228f0f6f0c8>"
      ]
     },
     "execution_count": 56,
     "metadata": {},
     "output_type": "execute_result"
    },
    {
     "data": {
      "image/png": "[encoded data removed]",
      "text/plain": [
       "<Figure size 432x288 with 1 Axes>"
      ]
     },
     "metadata": {
      "needs_background": "light"
     },
     "output_type": "display_data"
    }
   ],
   "source": [
    "bins=[0,30,40,50,60,70]\n",
    "labels=['<30','30-40','40-50','50-60','60-70']#为组创建标签名称\n",
    "pdd['age_group']=pd.cut(pdd.age, bins, right=False, labels=labels)\n",
    "sns.countplot(y='age_group', hue='flag',data=pdd)"
   ]
  },
  {
   "cell_type": "code",
   "execution_count": 57,
   "metadata": {},
   "outputs": [
    {
     "data": {
      "text/html": [
       "<div>\n",
       "<style scoped>\n",
       "    .dataframe tbody tr th:only-of-type {\n",
       "        vertical-align: middle;\n",
       "    }\n",
       "\n",
       "    .dataframe tbody tr th {\n",
       "        vertical-align: top;\n",
       "    }\n",
       "\n",
       "    .dataframe thead th {\n",
       "        text-align: right;\n",
       "    }\n",
       "</style>\n",
       "<table border=\"1\" class=\"dataframe\">\n",
       "  <thead>\n",
       "    <tr style=\"text-align: right;\">\n",
       "      <th></th>\n",
       "      <th>age</th>\n",
       "      <th>coupon_used_in_last6_month</th>\n",
       "      <th>coupon_used_in_last_month</th>\n",
       "      <th>flag</th>\n",
       "      <th>job_admin.</th>\n",
       "      <th>job_blue-collar</th>\n",
       "      <th>job_entrepreneur</th>\n",
       "      <th>job_housemaid</th>\n",
       "      <th>job_management</th>\n",
       "      <th>job_retired</th>\n",
       "      <th>...</th>\n",
       "      <th>marital_married</th>\n",
       "      <th>marital_single</th>\n",
       "      <th>default_yes</th>\n",
       "      <th>returned_yes</th>\n",
       "      <th>loan_yes</th>\n",
       "      <th>age_group_&lt;30</th>\n",
       "      <th>age_group_30-40</th>\n",
       "      <th>age_group_40-50</th>\n",
       "      <th>age_group_50-60</th>\n",
       "      <th>age_group_60-70</th>\n",
       "    </tr>\n",
       "  </thead>\n",
       "  <tbody>\n",
       "    <tr>\n",
       "      <td>0</td>\n",
       "      <td>43</td>\n",
       "      <td>2</td>\n",
       "      <td>0</td>\n",
       "      <td>0</td>\n",
       "      <td>0</td>\n",
       "      <td>0</td>\n",
       "      <td>0</td>\n",
       "      <td>0</td>\n",
       "      <td>1</td>\n",
       "      <td>0</td>\n",
       "      <td>...</td>\n",
       "      <td>1</td>\n",
       "      <td>0</td>\n",
       "      <td>0</td>\n",
       "      <td>1</td>\n",
       "      <td>0</td>\n",
       "      <td>0</td>\n",
       "      <td>0</td>\n",
       "      <td>1</td>\n",
       "      <td>0</td>\n",
       "      <td>0</td>\n",
       "    </tr>\n",
       "    <tr>\n",
       "      <td>1</td>\n",
       "      <td>42</td>\n",
       "      <td>1</td>\n",
       "      <td>1</td>\n",
       "      <td>0</td>\n",
       "      <td>0</td>\n",
       "      <td>0</td>\n",
       "      <td>0</td>\n",
       "      <td>0</td>\n",
       "      <td>0</td>\n",
       "      <td>0</td>\n",
       "      <td>...</td>\n",
       "      <td>0</td>\n",
       "      <td>0</td>\n",
       "      <td>0</td>\n",
       "      <td>1</td>\n",
       "      <td>0</td>\n",
       "      <td>0</td>\n",
       "      <td>0</td>\n",
       "      <td>1</td>\n",
       "      <td>0</td>\n",
       "      <td>0</td>\n",
       "    </tr>\n",
       "    <tr>\n",
       "      <td>2</td>\n",
       "      <td>47</td>\n",
       "      <td>2</td>\n",
       "      <td>0</td>\n",
       "      <td>0</td>\n",
       "      <td>1</td>\n",
       "      <td>0</td>\n",
       "      <td>0</td>\n",
       "      <td>0</td>\n",
       "      <td>0</td>\n",
       "      <td>0</td>\n",
       "      <td>...</td>\n",
       "      <td>1</td>\n",
       "      <td>0</td>\n",
       "      <td>0</td>\n",
       "      <td>1</td>\n",
       "      <td>1</td>\n",
       "      <td>0</td>\n",
       "      <td>0</td>\n",
       "      <td>1</td>\n",
       "      <td>0</td>\n",
       "      <td>0</td>\n",
       "    </tr>\n",
       "    <tr>\n",
       "      <td>3</td>\n",
       "      <td>28</td>\n",
       "      <td>2</td>\n",
       "      <td>0</td>\n",
       "      <td>0</td>\n",
       "      <td>0</td>\n",
       "      <td>0</td>\n",
       "      <td>0</td>\n",
       "      <td>0</td>\n",
       "      <td>1</td>\n",
       "      <td>0</td>\n",
       "      <td>...</td>\n",
       "      <td>0</td>\n",
       "      <td>1</td>\n",
       "      <td>0</td>\n",
       "      <td>1</td>\n",
       "      <td>1</td>\n",
       "      <td>1</td>\n",
       "      <td>0</td>\n",
       "      <td>0</td>\n",
       "      <td>0</td>\n",
       "      <td>0</td>\n",
       "    </tr>\n",
       "    <tr>\n",
       "      <td>4</td>\n",
       "      <td>42</td>\n",
       "      <td>5</td>\n",
       "      <td>0</td>\n",
       "      <td>0</td>\n",
       "      <td>0</td>\n",
       "      <td>0</td>\n",
       "      <td>0</td>\n",
       "      <td>0</td>\n",
       "      <td>0</td>\n",
       "      <td>0</td>\n",
       "      <td>...</td>\n",
       "      <td>0</td>\n",
       "      <td>0</td>\n",
       "      <td>0</td>\n",
       "      <td>1</td>\n",
       "      <td>0</td>\n",
       "      <td>0</td>\n",
       "      <td>0</td>\n",
       "      <td>1</td>\n",
       "      <td>0</td>\n",
       "      <td>0</td>\n",
       "    </tr>\n",
       "  </tbody>\n",
       "</table>\n",
       "<p>5 rows × 27 columns</p>\n",
       "</div>"
      ],
      "text/plain": [
       "   age  coupon_used_in_last6_month  coupon_used_in_last_month  flag  \\\n",
       "0   43                           2                          0     0   \n",
       "1   42                           1                          1     0   \n",
       "2   47                           2                          0     0   \n",
       "3   28                           2                          0     0   \n",
       "4   42                           5                          0     0   \n",
       "\n",
       "   job_admin.  job_blue-collar  job_entrepreneur  job_housemaid  \\\n",
       "0           0                0                 0              0   \n",
       "1           0                0                 0              0   \n",
       "2           1                0                 0              0   \n",
       "3           0                0                 0              0   \n",
       "4           0                0                 0              0   \n",
       "\n",
       "   job_management  job_retired  ...  marital_married  marital_single  \\\n",
       "0               1            0  ...                1               0   \n",
       "1               0            0  ...                0               0   \n",
       "2               0            0  ...                1               0   \n",
       "3               1            0  ...                0               1   \n",
       "4               0            0  ...                0               0   \n",
       "\n",
       "   default_yes  returned_yes  loan_yes  age_group_<30  age_group_30-40  \\\n",
       "0            0             1         0              0                0   \n",
       "1            0             1         0              0                0   \n",
       "2            0             1         1              0                0   \n",
       "3            0             1         1              1                0   \n",
       "4            0             1         0              0                0   \n",
       "\n",
       "   age_group_40-50  age_group_50-60  age_group_60-70  \n",
       "0                1                0                0  \n",
       "1                1                0                0  \n",
       "2                1                0                0  \n",
       "3                0                0                0  \n",
       "4                1                0                0  \n",
       "\n",
       "[5 rows x 27 columns]"
      ]
     },
     "execution_count": 57,
     "metadata": {},
     "output_type": "execute_result"
    }
   ],
   "source": [
    "pdd=pd.get_dummies(pdd)\n",
    "pdd.head()"
   ]
  },
  {
   "cell_type": "code",
   "execution_count": 58,
   "metadata": {},
   "outputs": [
    {
     "data": {
      "text/html": [
       "<div>\n",
       "<style scoped>\n",
       "    .dataframe tbody tr th:only-of-type {\n",
       "        vertical-align: middle;\n",
       "    }\n",
       "\n",
       "    .dataframe tbody tr th {\n",
       "        vertical-align: top;\n",
       "    }\n",
       "\n",
       "    .dataframe thead th {\n",
       "        text-align: right;\n",
       "    }\n",
       "</style>\n",
       "<table border=\"1\" class=\"dataframe\">\n",
       "  <thead>\n",
       "    <tr style=\"text-align: right;\">\n",
       "      <th></th>\n",
       "      <th>age</th>\n",
       "      <th>coupon_used_in_last6_month</th>\n",
       "      <th>coupon_used_in_last_month</th>\n",
       "      <th>job_admin.</th>\n",
       "      <th>job_blue-collar</th>\n",
       "      <th>job_entrepreneur</th>\n",
       "      <th>job_housemaid</th>\n",
       "      <th>job_management</th>\n",
       "      <th>job_retired</th>\n",
       "      <th>job_self-employed</th>\n",
       "      <th>...</th>\n",
       "      <th>marital_married</th>\n",
       "      <th>marital_single</th>\n",
       "      <th>default_yes</th>\n",
       "      <th>returned_yes</th>\n",
       "      <th>loan_yes</th>\n",
       "      <th>age_group_&lt;30</th>\n",
       "      <th>age_group_30-40</th>\n",
       "      <th>age_group_40-50</th>\n",
       "      <th>age_group_50-60</th>\n",
       "      <th>age_group_60-70</th>\n",
       "    </tr>\n",
       "    <tr>\n",
       "      <th>flag</th>\n",
       "      <th></th>\n",
       "      <th></th>\n",
       "      <th></th>\n",
       "      <th></th>\n",
       "      <th></th>\n",
       "      <th></th>\n",
       "      <th></th>\n",
       "      <th></th>\n",
       "      <th></th>\n",
       "      <th></th>\n",
       "      <th></th>\n",
       "      <th></th>\n",
       "      <th></th>\n",
       "      <th></th>\n",
       "      <th></th>\n",
       "      <th></th>\n",
       "      <th></th>\n",
       "      <th></th>\n",
       "      <th></th>\n",
       "      <th></th>\n",
       "      <th></th>\n",
       "    </tr>\n",
       "  </thead>\n",
       "  <tbody>\n",
       "    <tr>\n",
       "      <td>0</td>\n",
       "      <td>40.524198</td>\n",
       "      <td>2.164091</td>\n",
       "      <td>0.259767</td>\n",
       "      <td>0.116618</td>\n",
       "      <td>0.228669</td>\n",
       "      <td>0.035131</td>\n",
       "      <td>0.027017</td>\n",
       "      <td>0.203110</td>\n",
       "      <td>0.039213</td>\n",
       "      <td>0.035180</td>\n",
       "      <td>...</td>\n",
       "      <td>0.608358</td>\n",
       "      <td>0.276142</td>\n",
       "      <td>0.018416</td>\n",
       "      <td>0.589067</td>\n",
       "      <td>0.169096</td>\n",
       "      <td>0.112293</td>\n",
       "      <td>0.407629</td>\n",
       "      <td>0.266861</td>\n",
       "      <td>0.189553</td>\n",
       "      <td>0.022352</td>\n",
       "    </tr>\n",
       "    <tr>\n",
       "      <td>1</td>\n",
       "      <td>40.301275</td>\n",
       "      <td>1.888525</td>\n",
       "      <td>0.540619</td>\n",
       "      <td>0.118761</td>\n",
       "      <td>0.136976</td>\n",
       "      <td>0.023315</td>\n",
       "      <td>0.018215</td>\n",
       "      <td>0.256831</td>\n",
       "      <td>0.066667</td>\n",
       "      <td>0.036066</td>\n",
       "      <td>...</td>\n",
       "      <td>0.517304</td>\n",
       "      <td>0.370128</td>\n",
       "      <td>0.008743</td>\n",
       "      <td>0.370856</td>\n",
       "      <td>0.097996</td>\n",
       "      <td>0.172678</td>\n",
       "      <td>0.386157</td>\n",
       "      <td>0.204736</td>\n",
       "      <td>0.160656</td>\n",
       "      <td>0.071038</td>\n",
       "    </tr>\n",
       "  </tbody>\n",
       "</table>\n",
       "<p>2 rows × 26 columns</p>\n",
       "</div>"
      ],
      "text/plain": [
       "            age  coupon_used_in_last6_month  coupon_used_in_last_month  \\\n",
       "flag                                                                     \n",
       "0     40.524198                    2.164091                   0.259767   \n",
       "1     40.301275                    1.888525                   0.540619   \n",
       "\n",
       "      job_admin.  job_blue-collar  job_entrepreneur  job_housemaid  \\\n",
       "flag                                                                 \n",
       "0       0.116618         0.228669          0.035131       0.027017   \n",
       "1       0.118761         0.136976          0.023315       0.018215   \n",
       "\n",
       "      job_management  job_retired  job_self-employed  ...  marital_married  \\\n",
       "flag                                                  ...                    \n",
       "0           0.203110     0.039213           0.035180  ...         0.608358   \n",
       "1           0.256831     0.066667           0.036066  ...         0.517304   \n",
       "\n",
       "      marital_single  default_yes  returned_yes  loan_yes  age_group_<30  \\\n",
       "flag                                                                       \n",
       "0           0.276142     0.018416      0.589067  0.169096       0.112293   \n",
       "1           0.370128     0.008743      0.370856  0.097996       0.172678   \n",
       "\n",
       "      age_group_30-40  age_group_40-50  age_group_50-60  age_group_60-70  \n",
       "flag                                                                      \n",
       "0            0.407629         0.266861         0.189553         0.022352  \n",
       "1            0.386157         0.204736         0.160656         0.071038  \n",
       "\n",
       "[2 rows x 26 columns]"
      ]
     },
     "execution_count": 58,
     "metadata": {},
     "output_type": "execute_result"
    }
   ],
   "source": [
    "pdd.groupby(['flag']).mean()"
   ]
  },
  {
   "cell_type": "markdown",
   "metadata": {},
   "source": [
    "可以发现年龄<30，以及年龄在60-70之间的用户更有可能使用优惠券"
   ]
  },
  {
   "cell_type": "code",
   "execution_count": 59,
   "metadata": {
    "scrolled": true
   },
   "outputs": [
    {
     "data": {
      "text/plain": [
       "flag                          1.000000\n",
       "coupon_used_in_last_month     0.124839\n",
       "age_group_60-70               0.094963\n",
       "job_student                   0.074227\n",
       "marital_single                0.066935\n",
       "age_group_<30                 0.060007\n",
       "job_retired                   0.043882\n",
       "job_management                0.042543\n",
       "job_unemployed                0.027318\n",
       "job_unknown                   0.002414\n",
       "job_admin.                    0.002150\n",
       "job_self-employed             0.001547\n",
       "job_technician                0.000848\n",
       "marital_divorced             -0.002960\n",
       "age                          -0.007172\n",
       "age_group_30-40              -0.014094\n",
       "job_housemaid                -0.017829\n",
       "job_entrepreneur             -0.021087\n",
       "job_services                 -0.023711\n",
       "default_yes                  -0.023920\n",
       "age_group_50-60              -0.023923\n",
       "age_group_40-50              -0.045665\n",
       "marital_married              -0.059833\n",
       "loan_yes                     -0.062380\n",
       "coupon_used_in_last6_month   -0.067464\n",
       "job_blue-collar              -0.071575\n",
       "returned_yes                 -0.141774\n",
       "Name: flag, dtype: float64"
      ]
     },
     "execution_count": 59,
     "metadata": {},
     "output_type": "execute_result"
    }
   ],
   "source": [
    "pdd.corr()['flag'].sort_values(ascending=False)"
   ]
  },
  {
   "cell_type": "code",
   "execution_count": 78,
   "metadata": {},
   "outputs": [],
   "source": [
    "y=pdd['flag']\n",
    "x=pdd[['age_group_60-70','age_group_<30','coupon_used_in_last_month', 'job_student', 'marital_single','job_retired','job_management','job_unemployed',\n",
    "    'marital_married','loan_yes','coupon_used_in_last6_month','job_blue-collar','returned_yes']]"
   ]
  },
  {
   "cell_type": "code",
   "execution_count": 79,
   "metadata": {},
   "outputs": [],
   "source": [
    "x_train,x_test,y_train,y_test=train_test_split(x,y,test_size=0.3,random_state=1)"
   ]
  },
  {
   "cell_type": "code",
   "execution_count": 80,
   "metadata": {},
   "outputs": [],
   "source": [
    "from sklearn import linear_model\n",
    "lr=linear_model.LogisticRegression()"
   ]
  },
  {
   "cell_type": "code",
   "execution_count": 81,
   "metadata": {},
   "outputs": [
    {
     "name": "stderr",
     "output_type": "stream",
     "text": [
      "C:\\Users\\Owner\\Anaconda3\\lib\\site-packages\\sklearn\\linear_model\\logistic.py:432: FutureWarning: Default solver will be changed to 'lbfgs' in 0.22. Specify a solver to silence this warning.\n",
      "  FutureWarning)\n"
     ]
    },
    {
     "data": {
      "text/plain": [
       "LogisticRegression(C=1.0, class_weight=None, dual=False, fit_intercept=True,\n",
       "                   intercept_scaling=1, l1_ratio=None, max_iter=100,\n",
       "                   multi_class='warn', n_jobs=None, penalty='l2',\n",
       "                   random_state=None, solver='warn', tol=0.0001, verbose=0,\n",
       "                   warm_start=False)"
      ]
     },
     "execution_count": 81,
     "metadata": {},
     "output_type": "execute_result"
    }
   ],
   "source": [
    "lr.fit(x_train,y_train)"
   ]
  },
  {
   "cell_type": "code",
   "execution_count": 82,
   "metadata": {},
   "outputs": [
    {
     "data": {
      "text/plain": [
       "array([-1.34783744])"
      ]
     },
     "execution_count": 82,
     "metadata": {},
     "output_type": "execute_result"
    }
   ],
   "source": [
    "lr.intercept_"
   ]
  },
  {
   "cell_type": "code",
   "execution_count": 83,
   "metadata": {},
   "outputs": [
    {
     "data": {
      "text/plain": [
       "array([[ 0.80846882,  0.37240438,  0.49857055,  0.43086552,  0.17523734,\n",
       "         0.11907566,  0.22938886,  0.34366833, -0.09548084, -0.48547316,\n",
       "        -0.25256081, -0.25434269, -0.8369466 ]])"
      ]
     },
     "execution_count": 83,
     "metadata": {},
     "output_type": "execute_result"
    }
   ],
   "source": [
    "lr.coef_"
   ]
  },
  {
   "cell_type": "code",
   "execution_count": 84,
   "metadata": {},
   "outputs": [],
   "source": [
    "y_pred_train=lr.predict(x_train)\n",
    "y_pred_test=lr.predict(x_test)"
   ]
  },
  {
   "cell_type": "code",
   "execution_count": 85,
   "metadata": {},
   "outputs": [
    {
     "data": {
      "text/plain": [
       "0.8808721749249709"
      ]
     },
     "execution_count": 85,
     "metadata": {},
     "output_type": "execute_result"
    }
   ],
   "source": [
    "metrics.accuracy_score(y_train,y_pred_train)"
   ]
  },
  {
   "cell_type": "code",
   "execution_count": 86,
   "metadata": {},
   "outputs": [
    {
     "data": {
      "text/plain": [
       "0.883252357816519"
      ]
     },
     "execution_count": 86,
     "metadata": {},
     "output_type": "execute_result"
    }
   ],
   "source": [
    "metrics.accuracy_score(y_test,y_pred_test)"
   ]
  },
  {
   "cell_type": "markdown",
   "metadata": {},
   "source": [
    "年龄分箱后训练集准确率略有提升，测试集准确率几乎不变，有待用更多的数据做测试，但可以说模型有所优化"
   ]
  },
  {
   "cell_type": "markdown",
   "metadata": {},
   "source": [
    "# 模型解读 "
   ]
  },
  {
   "cell_type": "code",
   "execution_count": 122,
   "metadata": {},
   "outputs": [],
   "source": [
    "#优化后模型系数为：\n",
    "var=['age_group_60-70','age_group_<30','coupon_used_in_last_month', 'job_student', 'marital_single','job_retired',\n",
    "     'job_management','job_unemployed','marital_married','loan_yes','coupon_used_in_last6_month','job_blue-collar',\n",
    "     'returned_yes']\n",
    "coef=[ 0.80846882,  0.37240438,  0.49857055,  0.43086552,  0.17523734,0.11907566,  0.22938886,  0.34366833, -0.09548084,\n",
    "      -0.48547316,-0.25256081, -0.25434269, -0.8369466 ]"
   ]
  },
  {
   "cell_type": "code",
   "execution_count": 123,
   "metadata": {
    "scrolled": true
   },
   "outputs": [
    {
     "data": {
      "text/plain": [
       "{'age_group_60-70': 2.244468668704838,\n",
       " 'age_group_<30': 1.4512197068801853,\n",
       " 'coupon_used_in_last_month': 1.646366189715999,\n",
       " 'job_student': 1.5385886266451423,\n",
       " 'marital_single': 1.1915289805436773,\n",
       " 'job_retired': 1.126455142660368,\n",
       " 'job_management': 1.2578310641101165,\n",
       " 'job_unemployed': 1.4101108664684063,\n",
       " 'marital_married': 0.9089357766963161,\n",
       " 'loan_yes': 0.6154059423890581,\n",
       " 'coupon_used_in_last6_month': 0.7768089736493327,\n",
       " 'job_blue-collar': 0.7754260257648707,\n",
       " 'returned_yes': 0.433030722864083}"
      ]
     },
     "execution_count": 123,
     "metadata": {},
     "output_type": "execute_result"
    }
   ],
   "source": [
    "import math\n",
    "dic={}\n",
    "for i in range(len(var)):\n",
    "    dic[var[i]]=math.exp(coef[i])\n",
    "dic"
   ]
  },
  {
   "cell_type": "code",
   "execution_count": 129,
   "metadata": {},
   "outputs": [
    {
     "name": "stdout",
     "output_type": "stream",
     "text": [
      "在其他条件不变的情况下，60-70岁的人使用优惠券每增加1，客户使用优惠券的几率提高124.45%.\n",
      "在其他条件不变的情况下，小于30岁的人使用优惠券每增加1，客户使用优惠券的几率提高45.12%.\n",
      "在其他条件不变的情况下，上个月使用优惠券数量每增加1，客户使用优惠券的几率提高64.64%.\n",
      "在其他条件不变的情况下，学生用户使用优惠券数量每增加1，客户使用优惠券的几率提高53.86%.\n",
      "在其他条件不变的情况下，单身用户使用优惠券数量每增加1，客户使用优惠券的几率提高19.15%.\n",
      "在其他条件不变的情况下，退休用户使用优惠券数量每增加1，客户使用优惠券的几率提高12.65%.\n",
      "在其他条件不变的情况下，从事管理工作的用户使用优惠券数量每增加1，客户使用优惠券的几率提高25.78%.\n",
      "在其他条件不变的情况下，失业用户使用优惠券数量每增加1，客户使用优惠券的几率提高41.01%.\n",
      "在其他条件不变的情况下，已婚用户使用优惠券数量每增加1，客户使用优惠券的几率降低9.11%.\n",
      "在其他条件不变的情况下，信用卡用户使用优惠券数量每增加1，客户使用优惠券的几率降低38.46%.\n",
      "在其他条件不变的情况下，过去六个月使用优惠券数量每增加1，客户使用优惠券的几率降低22.32%.\n",
      "在其他条件不变的情况下，蓝领用户使用优惠券数量每增加1，客户使用优惠券的几率降低22.46%.\n",
      "在其他条件不变的情况下，退过货的用户使用优惠券数量每增加1，客户使用优惠券的几率降低56.70%.\n"
     ]
    }
   ],
   "source": [
    "print('在其他条件不变的情况下，60-70岁的人使用优惠券每增加1，客户使用优惠券的几率提高{:.2f}%.'.format((dic['age_group_60-70']-1)*100))\n",
    "print('在其他条件不变的情况下，小于30岁的人使用优惠券每增加1，客户使用优惠券的几率提高{:.2f}%.'.format((dic['age_group_<30']-1)*100))\n",
    "print('在其他条件不变的情况下，上个月使用优惠券数量每增加1，客户使用优惠券的几率提高{:.2f}%.'.format((dic['coupon_used_in_last_month']-1)*100))\n",
    "print('在其他条件不变的情况下，学生用户使用优惠券数量每增加1，客户使用优惠券的几率提高{:.2f}%.'.format((dic['job_student']-1)*100))\n",
    "print('在其他条件不变的情况下，单身用户使用优惠券数量每增加1，客户使用优惠券的几率提高{:.2f}%.'.format((dic['marital_single']-1)*100))\n",
    "print('在其他条件不变的情况下，退休用户使用优惠券数量每增加1，客户使用优惠券的几率提高{:.2f}%.'.format((dic['job_retired']-1)*100))\n",
    "print('在其他条件不变的情况下，从事管理工作的用户使用优惠券数量每增加1，客户使用优惠券的几率提高{:.2f}%.'.format((dic['job_management']-1)*100))\n",
    "print('在其他条件不变的情况下，失业用户使用优惠券数量每增加1，客户使用优惠券的几率提高{:.2f}%.'.format((dic['job_unemployed']-1)*100))\n",
    "print('在其他条件不变的情况下，已婚用户使用优惠券数量每增加1，客户使用优惠券的几率降低{:.2f}%.'.format((dic['marital_married']-1)*-100))\n",
    "print('在其他条件不变的情况下，信用卡用户使用优惠券数量每增加1，客户使用优惠券的几率降低{:.2f}%.'.format((dic['loan_yes']-1)*-100))\n",
    "print('在其他条件不变的情况下，过去六个月使用优惠券数量每增加1，客户使用优惠券的几率降低{:.2f}%.'.format((dic['coupon_used_in_last6_month']-1)*-100))\n",
    "print('在其他条件不变的情况下，蓝领用户使用优惠券数量每增加1，客户使用优惠券的几率降低{:.2f}%.'.format((dic['job_blue-collar']-1)*-100))\n",
    "print('在其他条件不变的情况下，退过货的用户使用优惠券数量每增加1，客户使用优惠券的几率降低{:.2f}%.'.format((dic['returned_yes']-1)*-100))\n"
   ]
  },
  {
   "cell_type": "markdown",
   "metadata": {},
   "source": [
    "# 业务建议 "
   ]
  },
  {
   "cell_type": "markdown",
   "metadata": {},
   "source": [
    "可以向以下人群发放优惠券，以增加sales：\n",
    "1. 学生\n",
    "2. 小于30岁的单身人群\n",
    "3. 60-70岁的退休人群\n",
    "4. 失业人群\n",
    "5. 上个月使用过优惠券的人\n",
    "\n",
    "可以避免向以下人群发放优惠券，以减少cost:\n",
    "1. 已婚蓝领\n",
    "2. 有过较多退货记录的用户\n",
    "3. 过去六个月大量使用优惠券的用户\n",
    "4. 喜欢用信用卡支付的用户"
   ]
  }
 ],
 "metadata": {
  "kernelspec": {
   "display_name": "Python 3",
   "language": "python",
   "name": "python3"
  },
  "language_info": {
   "codemirror_mode": {
    "name": "ipython",
    "version": 3
   },
   "file_extension": ".py",
   "mimetype": "text/x-python",
   "name": "python",
   "nbconvert_exporter": "python",
   "pygments_lexer": "ipython3",
   "version": "3.7.6"
  }
 },
 "nbformat": 4,
 "nbformat_minor": 2
}
